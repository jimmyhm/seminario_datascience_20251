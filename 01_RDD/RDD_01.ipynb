{
 "cells": [
  {
   "cell_type": "code",
   "execution_count": 0,
   "metadata": {
    "application/vnd.databricks.v1+cell": {
     "cellMetadata": {
      "byteLimit": 2048000,
      "rowLimit": 10000
     },
     "inputWidgets": {},
     "nuid": "f09a4c3f-7c97-447a-8612-a15eaa3b35d6",
     "showTitle": true,
     "title": "Datos del Spark Context"
    }
   },
   "outputs": [
    {
     "output_type": "display_data",
     "data": {
      "text/html": [
       "\n",
       "            <div>\n",
       "                <p><b>SparkSession - hive</b></p>\n",
       "                \n",
       "        <div>\n",
       "            <p><b>SparkContext</b></p>\n",
       "\n",
       "            <p><a href=\"/?o=320847603998591#setting/sparkui/0819-210327-cx4lgmao/driver-1103768370528541080\">Spark UI</a></p>\n",
       "\n",
       "            <dl>\n",
       "              <dt>Version</dt>\n",
       "                <dd><code>v3.3.2</code></dd>\n",
       "              <dt>Master</dt>\n",
       "                <dd><code>local[8]</code></dd>\n",
       "              <dt>AppName</dt>\n",
       "                <dd><code>Databricks Shell</code></dd>\n",
       "            </dl>\n",
       "        </div>\n",
       "        \n",
       "            </div>\n",
       "        "
      ]
     },
     "metadata": {
      "application/vnd.databricks.v1+output": {
       "addedWidgets": {},
       "arguments": {},
       "data": "\n            <div>\n                <p><b>SparkSession - hive</b></p>\n                \n        <div>\n            <p><b>SparkContext</b></p>\n\n            <p><a href=\"/?o=320847603998591#setting/sparkui/0819-210327-cx4lgmao/driver-1103768370528541080\">Spark UI</a></p>\n\n            <dl>\n              <dt>Version</dt>\n                <dd><code>v3.3.2</code></dd>\n              <dt>Master</dt>\n                <dd><code>local[8]</code></dd>\n              <dt>AppName</dt>\n                <dd><code>Databricks Shell</code></dd>\n            </dl>\n        </div>\n        \n            </div>\n        ",
       "datasetInfos": [],
       "metadata": {},
       "removedWidgets": [],
       "textData": null,
       "type": "htmlSandbox"
      }
     },
     "output_type": "display_data"
    }
   ],
   "source": [
    "#imprimimos las características del spark Session\n",
    "spark"
   ]
  },
  {
   "cell_type": "code",
   "execution_count": 0,
   "metadata": {
    "application/vnd.databricks.v1+cell": {
     "cellMetadata": {
      "byteLimit": 2048000,
      "rowLimit": 10000
     },
     "inputWidgets": {},
     "nuid": "a15b83ae-d4a1-4a83-97b6-fcc4f7aa4709",
     "showTitle": true,
     "title": "Creación del RDD"
    }
   },
   "outputs": [],
   "source": [
    "#creamos un spark context a partir del spark sesion\n",
    "sc=spark.sparkContext"
   ]
  },
  {
   "cell_type": "code",
   "execution_count": 0,
   "metadata": {
    "application/vnd.databricks.v1+cell": {
     "cellMetadata": {
      "byteLimit": 2048000,
      "rowLimit": 10000
     },
     "inputWidgets": {},
     "nuid": "b59e37aa-f815-4427-a2b8-9deb3e2a3d69",
     "showTitle": false,
     "title": ""
    }
   },
   "outputs": [
    {
     "output_type": "stream",
     "name": "stdout",
     "output_type": "stream",
     "text": [
      "3.9\nOut[3]: 2"
     ]
    }
   ],
   "source": [
    "sc.version\n",
    "print(sc.pythonVer)\n",
    "sc.master\n",
    "#nombre de la aplicacion\n",
    "sc.appName\n",
    "#numero de particiones\n",
    "sc.defaultMinPartitions"
   ]
  },
  {
   "cell_type": "code",
   "execution_count": 0,
   "metadata": {
    "application/vnd.databricks.v1+cell": {
     "cellMetadata": {
      "byteLimit": 2048000,
      "rowLimit": 10000
     },
     "inputWidgets": {},
     "nuid": "691e7f2d-2a64-4f1f-bda7-8db26fcf5292",
     "showTitle": true,
     "title": "Creación del RDD"
    }
   },
   "outputs": [
    {
     "output_type": "stream",
     "name": "stdout",
     "output_type": "stream",
     "text": [
      "Out[22]: ParallelCollectionRDD[66] at readRDDFromInputStream at PythonRDD.scala:435"
     ]
    }
   ],
   "source": [
    "#crear un rdd\n",
    "lista_datos_red=[\n",
    "    {\n",
    "        \"timestamp\": 1647693247,\n",
    "        \"src_ip\": \"192.168.1.15\",\n",
    "        \"dst_ip\": \"172.16.0.5\",\n",
    "        \"src_port\": 48235,\n",
    "        \"dst_port\": [443],\n",
    "        \"protocol\": \"TCP\",\n",
    "        \"packet_size\": 1056,\n",
    "        \"flags\": \"SYN\"\n",
    "    },\n",
    "    {\n",
    "        \"timestamp\": 1660567893,\n",
    "        \"src_ip\": \"10.0.0.2\",\n",
    "        \"dst_ip\": \"192.168.1.100\",\n",
    "        \"src_port\": 5678,\n",
    "        \"dst_port\": [80],\n",
    "        \"protocol\": \"UDP\",\n",
    "        \"packet_size\": 512,\n",
    "        \"flags\": \"ACK\"\n",
    "    },\n",
    "    {\n",
    "        \"timestamp\": 1647693247,\n",
    "        \"src_ip\": \"192.168.1.15\",\n",
    "        \"dst_ip\": \"172.16.0.5\",\n",
    "        \"src_port\": 48235,\n",
    "        \"dst_port\": [443,22],\n",
    "        \"protocol\": \"TCP\",\n",
    "        \"packet_size\": 1056,\n",
    "        \"flags\": \"SYN\",\n",
    "        \"duration\": 5872,\n",
    "        \"bytes_transferred\": 83742\n",
    "    },\n",
    "    {\n",
    "        \"timestamp\": 1660567893,\n",
    "        \"src_ip\": \"10.0.0.2\",\n",
    "        \"dst_ip\": \"192.168.1.100\",\n",
    "        \"src_port\": 5678,\n",
    "        \"dst_port\": [80],\n",
    "        \"protocol\": \"UDP\",\n",
    "        \"packet_size\": 512,\n",
    "        \"flags\": \"ACK\",\n",
    "        \"duration\": 245,\n",
    "        \"bytes_transferred\": 43912\n",
    "    }\n",
    "]\n",
    "rdd=sc.parallelize(lista_datos_red)\n",
    "rdd"
   ]
  },
  {
   "cell_type": "code",
   "execution_count": 0,
   "metadata": {
    "application/vnd.databricks.v1+cell": {
     "cellMetadata": {
      "byteLimit": 2048000,
      "rowLimit": 10000
     },
     "inputWidgets": {},
     "nuid": "86eb9402-6e81-4cfe-a181-db7e33aa92c7",
     "showTitle": true,
     "title": "Acciones"
    }
   },
   "outputs": [
    {
     "output_type": "display_data",
     "data": {
      "text/html": [
       "<style scoped>\n",
       "  .table-result-container {\n",
       "    max-height: 300px;\n",
       "    overflow: auto;\n",
       "  }\n",
       "  table, th, td {\n",
       "    border: 1px solid black;\n",
       "    border-collapse: collapse;\n",
       "  }\n",
       "  th, td {\n",
       "    padding: 5px;\n",
       "  }\n",
       "  th {\n",
       "    text-align: left;\n",
       "  }\n",
       "</style><div class='table-result-container'><table class='table-result'><thead style='background-color: white'><tr><th>dst_ip</th><th>dst_port</th><th>flags</th><th>packet_size</th><th>protocol</th><th>src_ip</th><th>src_port</th><th>timestamp</th><th>bytes_transferred</th><th>duration</th></tr></thead><tbody><tr><td>172.16.0.5</td><td>List(443)</td><td>SYN</td><td>1056</td><td>TCP</td><td>192.168.1.15</td><td>48235</td><td>1647693247</td><td>null</td><td>null</td></tr><tr><td>192.168.1.100</td><td>List(80)</td><td>ACK</td><td>512</td><td>UDP</td><td>10.0.0.2</td><td>5678</td><td>1660567893</td><td>null</td><td>null</td></tr><tr><td>172.16.0.5</td><td>List(443, 22)</td><td>SYN</td><td>1056</td><td>TCP</td><td>192.168.1.15</td><td>48235</td><td>1647693247</td><td>83742</td><td>5872</td></tr><tr><td>192.168.1.100</td><td>List(80)</td><td>ACK</td><td>512</td><td>UDP</td><td>10.0.0.2</td><td>5678</td><td>1660567893</td><td>43912</td><td>245</td></tr></tbody></table></div>"
      ]
     },
     "metadata": {
      "application/vnd.databricks.v1+output": {
       "addedWidgets": {},
       "aggData": [],
       "aggError": "",
       "aggOverflow": false,
       "aggSchema": [],
       "aggSeriesLimitReached": false,
       "aggType": "",
       "arguments": {},
       "columnCustomDisplayInfos": {},
       "data": [
        [
         "172.16.0.5",
         [
          443
         ],
         "SYN",
         1056,
         "TCP",
         "192.168.1.15",
         48235,
         1647693247,
         null,
         null
        ],
        [
         "192.168.1.100",
         [
          80
         ],
         "ACK",
         512,
         "UDP",
         "10.0.0.2",
         5678,
         1660567893,
         null,
         null
        ],
        [
         "172.16.0.5",
         [
          443,
          22
         ],
         "SYN",
         1056,
         "TCP",
         "192.168.1.15",
         48235,
         1647693247,
         83742,
         5872
        ],
        [
         "192.168.1.100",
         [
          80
         ],
         "ACK",
         512,
         "UDP",
         "10.0.0.2",
         5678,
         1660567893,
         43912,
         245
        ]
       ],
       "datasetInfos": [],
       "dbfsResultPath": null,
       "isJsonSchema": true,
       "metadata": {},
       "overflow": false,
       "plotOptions": {
        "customPlotOptions": {},
        "displayType": "table",
        "pivotAggregation": null,
        "pivotColumns": null,
        "xColumns": null,
        "yColumns": null
       },
       "removedWidgets": [],
       "schema": [
        {
         "metadata": "{}",
         "name": "dst_ip",
         "type": "\"string\""
        },
        {
         "metadata": "{}",
         "name": "dst_port",
         "type": "{\"type\":\"array\",\"elementType\":\"long\",\"containsNull\":true}"
        },
        {
         "metadata": "{}",
         "name": "flags",
         "type": "\"string\""
        },
        {
         "metadata": "{}",
         "name": "packet_size",
         "type": "\"long\""
        },
        {
         "metadata": "{}",
         "name": "protocol",
         "type": "\"string\""
        },
        {
         "metadata": "{}",
         "name": "src_ip",
         "type": "\"string\""
        },
        {
         "metadata": "{}",
         "name": "src_port",
         "type": "\"long\""
        },
        {
         "metadata": "{}",
         "name": "timestamp",
         "type": "\"long\""
        },
        {
         "metadata": "{}",
         "name": "bytes_transferred",
         "type": "\"long\""
        },
        {
         "metadata": "{}",
         "name": "duration",
         "type": "\"long\""
        }
       ],
       "type": "table"
      }
     },
     "output_type": "display_data"
    },
    {
     "output_type": "stream",
     "name": "stdout",
     "output_type": "stream",
     "text": [
      "4"
     ]
    },
    {
     "output_type": "display_data",
     "data": {
      "text/html": [
       "<style scoped>\n",
       "  .table-result-container {\n",
       "    max-height: 300px;\n",
       "    overflow: auto;\n",
       "  }\n",
       "  table, th, td {\n",
       "    border: 1px solid black;\n",
       "    border-collapse: collapse;\n",
       "  }\n",
       "  th, td {\n",
       "    padding: 5px;\n",
       "  }\n",
       "  th {\n",
       "    text-align: left;\n",
       "  }\n",
       "</style><div class='table-result-container'><table class='table-result'><thead style='background-color: white'><tr><th>dst_ip</th><th>dst_port</th><th>flags</th><th>packet_size</th><th>protocol</th><th>src_ip</th><th>src_port</th><th>timestamp</th></tr></thead><tbody><tr><td>172.16.0.5</td><td>List(443)</td><td>SYN</td><td>1056</td><td>TCP</td><td>192.168.1.15</td><td>48235</td><td>1647693247</td></tr><tr><td>192.168.1.100</td><td>List(80)</td><td>ACK</td><td>512</td><td>UDP</td><td>10.0.0.2</td><td>5678</td><td>1660567893</td></tr></tbody></table></div>"
      ]
     },
     "metadata": {
      "application/vnd.databricks.v1+output": {
       "addedWidgets": {},
       "aggData": [],
       "aggError": "",
       "aggOverflow": false,
       "aggSchema": [],
       "aggSeriesLimitReached": false,
       "aggType": "",
       "arguments": {},
       "columnCustomDisplayInfos": {},
       "data": [
        [
         "172.16.0.5",
         [
          443
         ],
         "SYN",
         1056,
         "TCP",
         "192.168.1.15",
         48235,
         1647693247
        ],
        [
         "192.168.1.100",
         [
          80
         ],
         "ACK",
         512,
         "UDP",
         "10.0.0.2",
         5678,
         1660567893
        ]
       ],
       "datasetInfos": [],
       "dbfsResultPath": null,
       "isJsonSchema": true,
       "metadata": {},
       "overflow": false,
       "plotOptions": {
        "customPlotOptions": {},
        "displayType": "table",
        "pivotAggregation": null,
        "pivotColumns": null,
        "xColumns": null,
        "yColumns": null
       },
       "removedWidgets": [],
       "schema": [
        {
         "metadata": "{}",
         "name": "dst_ip",
         "type": "\"string\""
        },
        {
         "metadata": "{}",
         "name": "dst_port",
         "type": "{\"type\":\"array\",\"elementType\":\"long\",\"containsNull\":true}"
        },
        {
         "metadata": "{}",
         "name": "flags",
         "type": "\"string\""
        },
        {
         "metadata": "{}",
         "name": "packet_size",
         "type": "\"long\""
        },
        {
         "metadata": "{}",
         "name": "protocol",
         "type": "\"string\""
        },
        {
         "metadata": "{}",
         "name": "src_ip",
         "type": "\"string\""
        },
        {
         "metadata": "{}",
         "name": "src_port",
         "type": "\"long\""
        },
        {
         "metadata": "{}",
         "name": "timestamp",
         "type": "\"long\""
        }
       ],
       "type": "table"
      }
     },
     "output_type": "display_data"
    },
    {
     "output_type": "stream",
     "name": "stdout",
     "output_type": "stream",
     "text": [
      "3136"
     ]
    }
   ],
   "source": [
    "\n",
    "#Recoge todos los elementos del RDD y los devuelve como una lista\n",
    "display(rdd.collect())\n",
    "#Devuelve el número de elementos en el RDD.\n",
    "display(rdd.count())\n",
    "#Devuelve una lista con los primeros n elementos del RDD\n",
    "display(rdd.take(2))\n",
    "#Aplica la función suma a los elementos del RDD, reduciéndolos a un solo valor\n",
    "display(rdd.map(lambda x: x['packet_size']).reduce(lambda x,y: x+y))"
   ]
  },
  {
   "cell_type": "code",
   "execution_count": 0,
   "metadata": {
    "application/vnd.databricks.v1+cell": {
     "cellMetadata": {
      "byteLimit": 2048000,
      "rowLimit": 10000
     },
     "inputWidgets": {},
     "nuid": "fd867ba9-fcf7-4b89-a7b8-f5cf2738a636",
     "showTitle": true,
     "title": "Transformaciones"
    }
   },
   "outputs": [
    {
     "output_type": "stream",
     "name": "stdout",
     "output_type": "stream",
     "text": [
      "[1058, 514, 1058, 514]\nOut[37]: [1058, 514, 1058, 514]"
     ]
    }
   ],
   "source": [
    "#Aplica la función suma 2 a cada elemento del RDD y devuelve un nuevo RDD con los resultados\n",
    "rdd1=rdd.map(lambda x:x['packet_size']+2)\n",
    "print(rdd1.collect())\n",
    "#Filtra los elementos del RDD que cumplen con la condición ser divido entre 2.\n",
    "rdd1.filter(lambda x: x%2==0).collect()\n",
    "\n"
   ]
  }
 ],
 "metadata": {
  "application/vnd.databricks.v1+notebook": {
   "dashboards": [],
   "environmentMetadata": null,
   "language": "python",
   "notebookMetadata": {
    "pythonIndentUnit": 2
   },
   "notebookName": "RDD_01",
   "widgets": {}
  }
 },
 "nbformat": 4,
 "nbformat_minor": 0
}
