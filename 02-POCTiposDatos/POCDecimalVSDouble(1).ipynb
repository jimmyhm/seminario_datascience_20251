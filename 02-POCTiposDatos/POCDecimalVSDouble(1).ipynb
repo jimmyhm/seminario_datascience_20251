{
 "cells": [
  {
   "cell_type": "code",
   "execution_count": 6,
   "id": "21fe5835",
   "metadata": {},
   "outputs": [],
   "source": [
    "try:\n",
    "    from pyspark.sql import SparkSession\n",
    "except:\n",
    "    import findspark\n",
    "    findspark.init()\n",
    "    from pyspark.sql import SparkSession\n",
    "    from pyspark.sql.functions import col\n",
    "    from pyspark.sql.types import DecimalType"
   ]
  },
  {
   "cell_type": "code",
   "execution_count": 7,
   "id": "4c800294",
   "metadata": {},
   "outputs": [],
   "source": [
    "spark = SparkSession.builder.appName(\"PocDecimalVSDouble\").getOrCreate()"
   ]
  },
  {
   "cell_type": "code",
   "execution_count": 9,
   "id": "ed6843c1",
   "metadata": {},
   "outputs": [],
   "source": [
    "from decimal import Decimal"
   ]
  },
  {
   "cell_type": "code",
   "execution_count": 10,
   "id": "1c535b9d",
   "metadata": {},
   "outputs": [
    {
     "name": "stdout",
     "output_type": "stream",
     "text": [
      "+----------+----------+------+----------------+------------------+\n",
      "|    nombre|precio_str|precio|impuesto_decimal|   impuesto_double|\n",
      "+----------+----------+------+----------------+------------------+\n",
      "|Producto A|    150.56|150.56|          15.056|15.056000000000001|\n",
      "|Producto B|    689.12|689.12|          68.912|            68.912|\n",
      "|Producto C|     56.78| 56.78|           5.678| 5.678000000000001|\n",
      "+----------+----------+------+----------------+------------------+\n",
      "\n"
     ]
    }
   ],
   "source": [
    "# Creamos la sesión de spark\n",
    "spark = SparkSession.builder.appName(\"PocDecimalVSDouble\").getOrCreate()\n",
    "\n",
    "# data\n",
    "data = [(\"Producto A\", \"150.56\"),\n",
    "        (\"Producto B\", \"689.12\"),\n",
    "        (\"Producto C\", \"56.78\")]\n",
    "\n",
    "# Create a DataFrame\n",
    "df = spark.createDataFrame(data, [\"nombre\", \"precio_str\"])\n",
    "\n",
    "constant_decimal = Decimal(\"0.1\")\n",
    "\n",
    "# hacemos el cast a Decimal con dos cifras decimales\n",
    "df = df.withColumn(\"precio\", col(\"precio_str\").cast(DecimalType(10,2)))\n",
    "\n",
    "# resultado de aplicar los tipos incorrectos\n",
    "df = df.withColumn(\"impuesto_decimal\", df[\"precio\"] * constant_decimal) \n",
    "df= df.withColumn(\"impuesto_double\", col(\"precio_str\").cast('double')*constant_decimal)\n",
    "\n",
    "# Show  DataFrame\n",
    "df.show()\n",
    "\n",
    "# Stop  Spark session\n",
    "spark.stop()"
   ]
  },
  {
   "cell_type": "code",
   "execution_count": 57,
   "id": "558702e3",
   "metadata": {},
   "outputs": [
    {
     "name": "stdout",
     "output_type": "stream",
     "text": [
      "0.5599999999999999\n",
      "0.56\n"
     ]
    }
   ],
   "source": [
    "from decimal import Decimal,getcontext\n",
    "print(5.6*0.1)\n",
    "getcontext().prec = 2\n",
    "print(Decimal(5.6)*Decimal(0.1))"
   ]
  },
  {
   "cell_type": "markdown",
   "id": "51d18a1b",
   "metadata": {},
   "source": [
    "Es sumamente importante indicar los tipos correctos, como podemos ver en ambos ejemplos que son esencialmente los mismos (uno en spark y otro en python) cuando la precisión es esencial como aplicaciones o cálculos financieras debemos usar Decimal, en la columna *impuesto_decimal* si aplicamos un 0.1 de impuesto los valores son correctos, sin embargo si usamos tipo double o flotante aunque el escalar que los multiplique sea de tipo decimal hay una expansión de los decimales."
   ]
  }
 ],
 "metadata": {
  "kernelspec": {
   "display_name": "Python 3",
   "language": "python",
   "name": "python3"
  },
  "language_info": {
   "codemirror_mode": {
    "name": "ipython",
    "version": 3
   },
   "file_extension": ".py",
   "mimetype": "text/x-python",
   "name": "python",
   "nbconvert_exporter": "python",
   "pygments_lexer": "ipython3",
   "version": "3.8.8"
  }
 },
 "nbformat": 4,
 "nbformat_minor": 5
}
