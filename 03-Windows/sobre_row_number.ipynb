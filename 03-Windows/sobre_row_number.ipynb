{
 "cells": [
  {
   "cell_type": "code",
   "execution_count": 3,
   "id": "4ddd26d2",
   "metadata": {},
   "outputs": [],
   "source": [
    "try:\n",
    "    from pyspark.sql import SparkSession\n",
    "except:\n",
    "    import findspark\n",
    "    findspark.init()\n",
    "    from pyspark.sql import SparkSession\n",
    "spark = SparkSession.builder.appName(\"row_number\") \\\n",
    "       .getOrCreate() "
   ]
  },
  {
   "cell_type": "code",
   "execution_count": 4,
   "id": "0773f847",
   "metadata": {},
   "outputs": [],
   "source": [
    "from pyspark.sql import functions as F"
   ]
  },
  {
   "cell_type": "code",
   "execution_count": 19,
   "id": "727d6d2b",
   "metadata": {},
   "outputs": [
    {
     "name": "stdout",
     "output_type": "stream",
     "text": [
      "+---+-------+-------------------+----------+-------+--------------+\n",
      "| id|   name|               hora|      date|salario|orden_columnas|\n",
      "+---+-------+-------------------+----------+-------+--------------+\n",
      "|  1|  Alice|2023-07-01 00:52:11|2023-07-01|   8000|             1|\n",
      "|  1|  Alice|2023-07-01 10:52:11|2023-07-01|   9000|             2|\n",
      "|  3|Charlie|2023-07-01 00:52:11|2023-07-02|   9000|             3|\n",
      "|  3|  David|2023-07-01 00:53:11|2023-07-02|   5000|             4|\n",
      "+---+-------+-------------------+----------+-------+--------------+\n",
      "\n"
     ]
    }
   ],
   "source": [
    "from pyspark.sql import SparkSession\n",
    "from pyspark.sql.window import Window\n",
    "import pyspark.sql.functions as F\n",
    "\n",
    "\n",
    "spark = SparkSession.builder.getOrCreate()\n",
    "\n",
    "df = spark.createDataFrame([(1, \"Maria\",\"2023-05-07 00:52:11\",\"2023-07-01\",\"1\"), \n",
    "                            (1, \"Maria\",\"2023-07-07 10:52:11\",\"2023-07-01\",\"1\"), \n",
    "                            (1, \"Maria\",\"2023-07-08 10:52:11\",\"2023-07-01\",\"2\"),\n",
    "    (3, \"Charlie\",\"2023-07-01 00:52:11\",\"2023-07-02\",\"9000\"), (3, \"David\",\"2023-07-01 00:53:11\",\"2023-07-02\",\"5000\")],\n",
    "                           [\"id\", \"name\",\"hora\",\"date\",\"atraso\"])\n",
    "\n",
    "windowSpec = Window.partitionBy().orderBy(\"id\")\n",
    "\n",
    "df_with_row_number = df.withColumn(\"orden_columnas\", F.row_number().over(windowSpec))\n",
    "\n",
    "# Show the result\n",
    "df_with_row_number.show()"
   ]
  },
  {
   "cell_type": "code",
   "execution_count": null,
   "id": "7ae24a00",
   "metadata": {},
   "outputs": [],
   "source": [
    "[\"jose\",\"20000\",\"malo\",\"end_date\":2024-10-23]--->clausura\n",
    "[\"jose\",\"30000\",\"bueno\",\"end_date\":\"\"]--->vigente\n",
    "\n",
    "SCD-1\n",
    "SCD-2"
   ]
  },
  {
   "cell_type": "code",
   "execution_count": 20,
   "id": "d68ec0bb",
   "metadata": {},
   "outputs": [
    {
     "name": "stdout",
     "output_type": "stream",
     "text": [
      "+---+-------+-------------------+----------+-------+-------------------+----------+\n",
      "|id |name   |hora               |date      |salario|load_timestamp     |fecha     |\n",
      "+---+-------+-------------------+----------+-------+-------------------+----------+\n",
      "|1  |Alice  |2023-07-01 00:52:11|2023-07-01|8000   |2023-07-01 00:52:11|2023-07-01|\n",
      "|1  |Alice  |2023-07-01 10:52:11|2023-07-01|9000   |2023-07-01 10:52:11|2023-07-01|\n",
      "|3  |Charlie|2023-07-01 00:52:11|2023-07-02|9000   |2023-07-01 00:52:11|2023-07-02|\n",
      "|3  |David  |2023-07-01 00:53:11|2023-07-02|5000   |2023-07-01 00:53:11|2023-07-02|\n",
      "+---+-------+-------------------+----------+-------+-------------------+----------+\n",
      "\n"
     ]
    }
   ],
   "source": [
    "df=df.withColumn(\"load_timestamp\",F.to_timestamp(F.col(\"hora\"),\"yyyy-MM-dd HH:mm:ss\"))\\\n",
    "    .withColumn(\"fecha\",F.to_date(F.col(\"date\"),\"yyyy-MM-dd\"))\n",
    "df.show(5,truncate=False)"
   ]
  },
  {
   "cell_type": "code",
   "execution_count": 21,
   "id": "1d6e797f",
   "metadata": {},
   "outputs": [
    {
     "name": "stdout",
     "output_type": "stream",
     "text": [
      "+---+-------+-------------------+----------+-------+-------------------+----------+----------+\n",
      "| id|   name|               hora|      date|salario|     load_timestamp|     fecha|row_number|\n",
      "+---+-------+-------------------+----------+-------+-------------------+----------+----------+\n",
      "|  1|  Alice|2023-07-01 00:52:11|2023-07-01|   8000|2023-07-01 00:52:11|2023-07-01|         1|\n",
      "|  1|  Alice|2023-07-01 10:52:11|2023-07-01|   9000|2023-07-01 10:52:11|2023-07-01|         2|\n",
      "|  3|Charlie|2023-07-01 00:52:11|2023-07-02|   9000|2023-07-01 00:52:11|2023-07-02|         1|\n",
      "|  3|  David|2023-07-01 00:53:11|2023-07-02|   5000|2023-07-01 00:53:11|2023-07-02|         2|\n",
      "+---+-------+-------------------+----------+-------+-------------------+----------+----------+\n",
      "\n"
     ]
    }
   ],
   "source": [
    "windowSpec = Window.partitionBy(\"id\").orderBy(\"load_timestamp\")\n",
    "\n",
    "df_with_row_number = df.withColumn(\"row_number\", F.row_number().over(windowSpec))\n",
    "\n",
    "df_with_row_number.show()"
   ]
  },
  {
   "cell_type": "code",
   "execution_count": 12,
   "id": "aac34b3b",
   "metadata": {},
   "outputs": [
    {
     "name": "stdout",
     "output_type": "stream",
     "text": [
      "+---+-----+-------------------+----------+-------------------+----------+----------+\n",
      "| id| name|               hora|      date|     load_timestamp|     fecha|row_number|\n",
      "+---+-----+-------------------+----------+-------------------+----------+----------+\n",
      "|  1|  Bob|2023-07-01 00:52:11|2023-07-01|2023-07-01 00:52:11|2023-07-01|         2|\n",
      "|  3|David|2023-07-01 00:53:11|2023-07-02|2023-07-01 00:53:11|2023-07-02|         2|\n",
      "+---+-----+-------------------+----------+-------------------+----------+----------+\n",
      "\n"
     ]
    }
   ],
   "source": [
    "df_with_row_number.orderBy(F.col(\"row_number\").desc()).dropDuplicates((['id'])).show()"
   ]
  },
  {
   "cell_type": "code",
   "execution_count": 55,
   "id": "fdf0a3a0",
   "metadata": {},
   "outputs": [
    {
     "name": "stdout",
     "output_type": "stream",
     "text": [
      "+-----+---+-------+\n",
      "|orden| id|   name|\n",
      "+-----+---+-------+\n",
      "|    0|  1|  Alice|\n",
      "|    1|  2|    Bob|\n",
      "|    2|  3|Charlie|\n",
      "|    3|  4|  David|\n",
      "+-----+---+-------+\n",
      "\n"
     ]
    }
   ],
   "source": [
    "df.selectExpr(\"ROW_NUMBER() OVER (ORDER BY load_timestamp NULLS LAST) - 1 AS orden\", \"id\",\"name\").show()"
   ]
  },
  {
   "cell_type": "markdown",
   "id": "82259dd7",
   "metadata": {},
   "source": [
    "$$\n",
    "f(\\beta')>=f(\\beta)+<z,\\beta'-\\beta>\\\\\n",
    "f(\\beta')>=0+<z,\\beta'>\\\\\n",
    "|\\beta'|>=z\\beta'\\\\\n",
    "1) \\beta'>=z\\beta'\\\\\n",
    "2) \\beta'>=-z\\beta'\n",
    "$$"
   ]
  }
 ],
 "metadata": {
  "kernelspec": {
   "display_name": "Python 3",
   "language": "python",
   "name": "python3"
  },
  "language_info": {
   "codemirror_mode": {
    "name": "ipython",
    "version": 3
   },
   "file_extension": ".py",
   "mimetype": "text/x-python",
   "name": "python",
   "nbconvert_exporter": "python",
   "pygments_lexer": "ipython3",
   "version": "3.8.8"
  }
 },
 "nbformat": 4,
 "nbformat_minor": 5
}
